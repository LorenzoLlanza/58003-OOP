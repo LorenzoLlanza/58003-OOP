{
  "nbformat": 4,
  "nbformat_minor": 0,
  "metadata": {
    "colab": {
      "provenance": [],
      "authorship_tag": "ABX9TyOLRFE+HptChD2/1kmVgGVR",
      "include_colab_link": true
    },
    "kernelspec": {
      "name": "python3",
      "display_name": "Python 3"
    },
    "language_info": {
      "name": "python"
    }
  },
  "cells": [
    {
      "cell_type": "markdown",
      "metadata": {
        "id": "view-in-github",
        "colab_type": "text"
      },
      "source": [
        "<a href=\"https://colab.research.google.com/github/LorenzoLlanza/58003-OOP/blob/main/Lab3.ipynb\" target=\"_parent\"><img src=\"https://colab.research.google.com/assets/colab-badge.svg\" alt=\"Open In Colab\"/></a>"
      ]
    },
    {
      "cell_type": "code",
      "execution_count": 2,
      "metadata": {
        "colab": {
          "base_uri": "https://localhost:8080/"
        },
        "id": "fsyXSfMvR2fw",
        "outputId": "44dca2a4-8805-46b4-ee96-5f526b129a99"
      },
      "outputs": [
        {
          "output_type": "stream",
          "name": "stdout",
          "text": [
            "Student term grades:\n",
            "\n",
            "Student 1\n",
            " Prelims  : 96\n",
            " Midterms : 95\n",
            " Finals   : 96\n",
            "Student 2\n",
            " Prelims  : 98\n",
            " Midterms : 97\n",
            " Finals   : 97\n",
            "Student 3\n",
            " Prelims  : 99\n",
            " Midterms : 99\n",
            " Finals   : 99\n",
            "\n",
            "Average term grades:\n",
            "Student 1 average term grade is 95.67 .\n",
            "Student 2 average term grade is 97.33 .\n",
            "Student 1 average term grade is 99 .\n"
          ]
        }
      ],
      "source": [
        "class Person:\n",
        "  def __init__ (self,std, pre,mid,fin):\n",
        "    self.std=std\n",
        "    self.pre=pre\n",
        "    self.mid=mid\n",
        "    self.fin=fin\n",
        "    \n",
        "  def term_grades(self):\n",
        "    print(f\"{self.std}\")\n",
        "    print(f\" Prelims  : {self.pre}\") \n",
        "    print(f\" Midterms : {self.mid}\")\n",
        "    print(f\" Finals   : {self.fin}\")\n",
        "\n",
        "class Grades(Person):\n",
        "  pass\n",
        "print(\"Student term grades:\\n\")\n",
        "\n",
        "std1=Grades(\"Student 1\",96,95,96 )\n",
        "std1.term_grades()\n",
        "std2=Grades(\"Student 2\",98,97,97)\n",
        "std2.term_grades()\n",
        "std3=Grades(\"Student 3\",99,99,99)\n",
        "std3.term_grades()\n",
        "\n",
        "print(\"\\nAverage term grades:\")\n",
        "import statistics   \n",
        "std1 = (96,95,96)\n",
        "average = statistics.mean(std1)\n",
        "print(\"Student 1 average term grade is \" + str(round(average, 2)), \".\")\n",
        "\n",
        "std2 = (98,97,97)\n",
        "average = statistics.mean(std2)\n",
        "print(\"Student 2 average term grade is \" + str(round(average, 2)), \".\")\n",
        "\n",
        "std3 = (99,99,99)\n",
        "average = statistics.mean(std3)\n",
        "print(\"Student 1 average term grade is \" + str(round(average, 2)), \".\")"
      ]
    }
  ]
}