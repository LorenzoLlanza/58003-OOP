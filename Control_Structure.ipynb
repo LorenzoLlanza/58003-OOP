{
  "nbformat": 4,
  "nbformat_minor": 0,
  "metadata": {
    "colab": {
      "provenance": [],
      "authorship_tag": "ABX9TyPoAjD5XtqDN61CzXZZe7Hf",
      "include_colab_link": true
    },
    "kernelspec": {
      "name": "python3",
      "display_name": "Python 3"
    },
    "language_info": {
      "name": "python"
    }
  },
  "cells": [
    {
      "cell_type": "markdown",
      "metadata": {
        "id": "view-in-github",
        "colab_type": "text"
      },
      "source": [
        "<a href=\"https://colab.research.google.com/github/LorenzoLlanza/58003-OOP/blob/main/Control_Structure.ipynb\" target=\"_parent\"><img src=\"https://colab.research.google.com/assets/colab-badge.svg\" alt=\"Open In Colab\"/></a>"
      ]
    },
    {
      "cell_type": "markdown",
      "source": [],
      "metadata": {
        "id": "L7DLY9dY7_Eg"
      }
    },
    {
      "cell_type": "markdown",
      "source": [
        "If Condition"
      ],
      "metadata": {
        "id": "qWrl5agQ8BfI"
      }
    },
    {
      "cell_type": "code",
      "source": [
        "if 3>5:\n",
        "  print(\"three is greater than five\")\n",
        "elif 3==1:\n",
        "  print(\"three is equal two\")"
      ],
      "metadata": {
        "id": "T4j3tgga9EoU"
      },
      "execution_count": 19,
      "outputs": []
    },
    {
      "cell_type": "code",
      "source": [
        "print(\"type the grade level of student\")\n",
        "print(\"1-6 = Elementary\")\n",
        "print(\"7-12 = Secondary\")\n",
        "print(\"None of the choices above = Tertiary\")\n",
        "\n",
        "x = int(input())\n",
        "if x ==1 or x ==2 or x ==3:\n",
        "  print(\"elementary\")\n",
        "elif "
      ],
      "metadata": {
        "colab": {
          "base_uri": "https://localhost:8080/"
        },
        "id": "SPkS6xjr_KYC",
        "outputId": "444e6fa7-83d1-4428-ba9a-74dc77fdb765"
      },
      "execution_count": 20,
      "outputs": [
        {
          "name": "stdout",
          "output_type": "stream",
          "text": [
            "type the grade level of student\n",
            "1-6 = Elementary\n",
            "7-12 = Secondary\n",
            "None of the choices above = Tertiary\n",
            "8\n"
          ]
        }
      ]
    },
    {
      "cell_type": "markdown",
      "source": [
        "Example 1: Write a program that determines if the input age is qualified to vote or not. The qualifying age is 18 years old and above."
      ],
      "metadata": {
        "id": "9rD-yCjIJreZ"
      }
    },
    {
      "cell_type": "code",
      "source": [
        "x = int(input())\n",
        "if x<18:\n",
        "  print(\"Not allowed to vote\")\n",
        "elif x>17:\n",
        "  print(\"allowed to vote\")"
      ],
      "metadata": {
        "colab": {
          "base_uri": "https://localhost:8080/"
        },
        "id": "qTAMCrRvJtaJ",
        "outputId": "f9d34b0f-dacf-4ea1-cf5e-ffebbc1cec9f"
      },
      "execution_count": 28,
      "outputs": [
        {
          "output_type": "stream",
          "name": "stdout",
          "text": [
            "18\n",
            "allowed to vote\n"
          ]
        }
      ]
    },
    {
      "cell_type": "markdown",
      "source": [
        "Example 2: Write a program that determines if the input number is POSITIVE, NEGATIVE, or ZERO."
      ],
      "metadata": {
        "id": "UNyTErwWMV7O"
      }
    },
    {
      "cell_type": "code",
      "source": [
        "x = int(input())\n",
        "if x ==0:\n",
        "  print(\"ZERO\")\n",
        "elif x>0:\n",
        "  print(\"POSITIVE\")\n",
        "elif x<0:\n",
        "  print(\"NEGATIVE\")"
      ],
      "metadata": {
        "colab": {
          "base_uri": "https://localhost:8080/"
        },
        "id": "ujQ1KDY_Ni0f",
        "outputId": "132dd3d4-020a-4014-f710-b2baa37bd76e"
      },
      "execution_count": 30,
      "outputs": [
        {
          "output_type": "stream",
          "name": "stdout",
          "text": [
            "-2\n",
            "NEGATIVE\n"
          ]
        }
      ]
    },
    {
      "cell_type": "markdown",
      "source": [
        "Example 3"
      ],
      "metadata": {
        "id": "MhqAcDovPD12"
      }
    },
    {
      "cell_type": "code",
      "source": [
        "x = int(input())\n",
        "if x >= 70:\n",
        "  print(\"PASSED\")\n",
        "elif x >= 65:\n",
        "  print(\"REMEDIAL\")\n",
        "elif x <= 64:\n",
        "  print(\"FAILED\")"
      ],
      "metadata": {
        "colab": {
          "base_uri": "https://localhost:8080/"
        },
        "id": "lrpUcOZSPRC9",
        "outputId": "4c8165bc-848a-4026-87b9-0f0b12b7fbe0"
      },
      "execution_count": 31,
      "outputs": [
        {
          "output_type": "stream",
          "name": "stdout",
          "text": [
            "66\n",
            "REMEDIAL\n"
          ]
        }
      ]
    }
  ]
}